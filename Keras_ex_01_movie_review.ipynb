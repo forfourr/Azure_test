{
  "nbformat": 4,
  "nbformat_minor": 0,
  "metadata": {
    "colab": {
      "private_outputs": true,
      "provenance": [],
      "authorship_tag": "ABX9TyNXLhyX055KOW4E0I7WiUm/",
      "include_colab_link": true
    },
    "kernelspec": {
      "name": "python3",
      "display_name": "Python 3"
    },
    "language_info": {
      "name": "python"
    }
  },
  "cells": [
    {
      "cell_type": "markdown",
      "metadata": {
        "id": "view-in-github",
        "colab_type": "text"
      },
      "source": [
        "<a href=\"https://colab.research.google.com/github/forfourr/DL_test/blob/main/Keras_ex_01_movie_review.ipynb\" target=\"_parent\"><img src=\"https://colab.research.google.com/assets/colab-badge.svg\" alt=\"Open In Colab\"/></a>"
      ]
    },
    {
      "cell_type": "code",
      "execution_count": null,
      "metadata": {
        "id": "e6fwrmx58rf-"
      },
      "outputs": [],
      "source": [
        "import keras\n",
        "from keras.datasets import mnist"
      ]
    },
    {
      "cell_type": "markdown",
      "source": [
        "Review data(TEXT) -> encoding\n",
        "- onehot encoding\n",
        "    the: [1,0,0]\n",
        "    it: [0,1,0]\n",
        "- Bow(Bag of Words)"
      ],
      "metadata": {
        "id": "GAMuuu9s9cNq"
      }
    },
    {
      "cell_type": "code",
      "source": [
        "# import data\n",
        "from keras.datasets import imdb\n",
        "(train_data,train_labels),(test_data,test_labels)=imdb.load_data(num_words=1000)"
      ],
      "metadata": {
        "id": "BPF87Sgy-H70"
      },
      "execution_count": null,
      "outputs": []
    },
    {
      "cell_type": "code",
      "source": [
        "#단어의 종류는 1000개이고 25000가지의 데이터 가져옴\n",
        "train_data.shape"
      ],
      "metadata": {
        "id": "ozUI-FRxJBwM"
      },
      "execution_count": null,
      "outputs": []
    },
    {
      "cell_type": "markdown",
      "source": [
        "이미 one-hot 인코딩 프로세싱 됨. data->숫자, label=0/1(싫다/좋다)"
      ],
      "metadata": {
        "id": "8xHY7Z3jBCQU"
      }
    },
    {
      "cell_type": "code",
      "source": [
        "#전체 단어가 몇개인지 확인\n",
        "cnt=0\n",
        "for sequence in train_data:\n",
        "    cnt+=1\n",
        "print(\"총 단어의 개수: \",cnt)"
      ],
      "metadata": {
        "id": "-UGKJ4cgBilg"
      },
      "execution_count": null,
      "outputs": []
    },
    {
      "cell_type": "code",
      "source": [
        "max([max(squence) for squence in train_data])      \n",
        "#for문의 결과의 sequence의 max, 그 max중에서 또 max\n"
      ],
      "metadata": {
        "id": "9sijkHOkB6ij"
      },
      "execution_count": null,
      "outputs": []
    },
    {
      "cell_type": "markdown",
      "source": [
        "- 적당한 크기의 배열로 만드는 과정 \n",
        "\n",
        "    25000건의 데이터를 넘기면 len(sequence)=25000\n",
        "    \n",
        "    25000개 요소를 가진 10000차원 배열\n",
        "    -> zeros(25000,10000)"
      ],
      "metadata": {
        "id": "Mv2XSOxbHdAH"
      }
    },
    {
      "cell_type": "code",
      "source": [
        "#data 준비\n",
        "import numpy as np\n",
        "def vectorize_sequences(sequences, dimension=10000):     #10000의 데이터가 있음\n",
        "    result = np.zeros((len(sequences),dimension))         #배열의 크기는 sequences의 길이의 디멘션\n",
        "    print(result.shape)\n",
        "            #np.zeros(25000,10000)                      #zeros -> 모든원소 0 \n",
        "    for i, sequence in enumerate(sequences):\n",
        "        result[i, sequence] =1                          #특정 인덱스의 위치를 1로 만듬\n",
        "    return result"
      ],
      "metadata": {
        "id": "7JOLOXsPC3oN"
      },
      "execution_count": null,
      "outputs": []
    },
    {
      "cell_type": "markdown",
      "source": [
        "enumerate : 각 배열에 index 숫자 순서대로 붙여줌\n",
        "\n",
        "i: 순서대로 붙인 index\n",
        "\n",
        "\n",
        "sequence: data값\n",
        "\n",
        "-> zeros고차원 배열에서 단어가 위치한 곳에 1을 넣음"
      ],
      "metadata": {
        "id": "NJIcm-A8J9G1"
      }
    },
    {
      "cell_type": "code",
      "source": [
        "#데이터를 벡터로 변환\n",
        "x_train = vectorize_sequences(train_data)\n",
        "x_test = vectorize_sequences(test_data)"
      ],
      "metadata": {
        "id": "ZET5IS6jD9IN"
      },
      "execution_count": null,
      "outputs": []
    },
    {
      "cell_type": "code",
      "source": [
        "x_train[0]"
      ],
      "metadata": {
        "id": "iPamsWFlLZrK"
      },
      "execution_count": null,
      "outputs": []
    },
    {
      "cell_type": "code",
      "source": [
        "# label data ->float\n",
        "# x_train이 float이기 때문에\n",
        "y_train = np.asarray(train_labels).astype('float32')\n",
        "y_test = np.asarray(test_labels).astype('float32')"
      ],
      "metadata": {
        "id": "XfSmshAeL12A"
      },
      "execution_count": null,
      "outputs": []
    },
    {
      "cell_type": "code",
      "source": [
        "#신경망 제작\n",
        "from keras import models\n",
        "from keras import layers\n",
        "\n",
        "model = models.Sequential()\n",
        "\n",
        "#Add layer 3\n",
        "model.add(layers.Dense(16, activation='relu',       #input layer, unit 16\n",
        "                       input_shape=(10000,)))     \n",
        "model.add(layers.Dense(16, activation='relu'))      #hidden layer\n",
        "model.add(layers.Dense(1, activation='sigmoid'))    #output layer, 이진분류이기 때문에 unit=1\n",
        "\n",
        "#Loss function, optimizer, metrics 결정\n",
        "model.compile(optimizer='rmsprop',\n",
        "              loss= 'binary_crossentropy',\n",
        "              metrics= ['accuracy'])"
      ],
      "metadata": {
        "id": "dnFBtxlhNaO2"
      },
      "execution_count": null,
      "outputs": []
    },
    {
      "cell_type": "markdown",
      "source": [
        "- 검증용 데이터 나누기\n",
        "\n",
        "25000(x_train) = 10000(val) + 15000(partical)\n",
        "\n",
        "partical로 먼저 training"
      ],
      "metadata": {
        "id": "dEeOgdUjU4OB"
      }
    },
    {
      "cell_type": "code",
      "source": [
        "#검증용 데이터\n",
        "x_val = x_train[:10000]\n",
        "partial_x_train = x_train[10000:]\n",
        "y_val = y_train[:10000]\n",
        "partial_y_train = y_train[10000:]"
      ],
      "metadata": {
        "id": "r9cs3Mb_QhNP"
      },
      "execution_count": null,
      "outputs": []
    },
    {
      "cell_type": "code",
      "source": [
        "#학습진행 내용을 history에 저장시켜 나중에 시각화 해서 봄\n",
        "history = model.fit(partial_x_train, \n",
        "                    partial_y_train,\n",
        "                    epochs=20,\n",
        "                    batch_size=512,\n",
        "                    validation_data=(x_val, y_val))"
      ],
      "metadata": {
        "id": "9XGgYx7fVoWM"
      },
      "execution_count": null,
      "outputs": []
    },
    {
      "cell_type": "markdown",
      "source": [
        "val_loss, val_accuracy는 우리가 train하지 않은 나머지 값으로 했을 때의 결과\n",
        "\n",
        "val_loss는 낮아지다가 높아지는 것을 볼 수 있다"
      ],
      "metadata": {
        "id": "hro-siiLYXzN"
      }
    },
    {
      "cell_type": "markdown",
      "source": [
        "https://colab.research.google.com/drive/1bwaqbwJu91Z4Fy35xXWN8YYmh1sRtspP?usp=sharing#scrollTo=7Ncy598QL1TC"
      ],
      "metadata": {
        "id": "gNI1JFm8V6lS"
      }
    },
    {
      "cell_type": "code",
      "source": [
        "# 시각화\n",
        "history_dict = history.history\n",
        "history_dict.keys()"
      ],
      "metadata": {
        "id": "A8Tod_UKXydS"
      },
      "execution_count": null,
      "outputs": []
    },
    {
      "cell_type": "code",
      "source": [
        "import matplotlib.pyplot as plt\n",
        "\n",
        "acc = history.history['accuracy']\n",
        "loss = history.history['loss']\n",
        "val_loss = history.history['val_loss']\n",
        "epochs = range(1, len(acc)+1)\n",
        "\n",
        "#loss\n",
        "plt.plot(epochs,loss, label='loss')\n",
        "plt.plot(epochs,val_loss, 'r', label='val_loss')\n",
        "plt.xlabel('Epochs')\n",
        "plt.ylabel('Loss')\n",
        "plt.legend()"
      ],
      "metadata": {
        "id": "8sdR_K1jYmSL"
      },
      "execution_count": null,
      "outputs": []
    },
    {
      "cell_type": "code",
      "source": [
        "#accuary\n",
        "plt.plot(epochs,history.history['accuracy'], label='accuracy')\n",
        "plt.plot(epochs,history.history['val_accuracy'], 'r',label='val_acc')\n",
        "plt.xlabel('Epochs')\n",
        "plt.ylabel('Accuracy')\n",
        "plt.legend()"
      ],
      "metadata": {
        "id": "ID9hxzD9Zqy9"
      },
      "execution_count": null,
      "outputs": []
    },
    {
      "cell_type": "code",
      "source": [
        "model.predict(x_test)"
      ],
      "metadata": {
        "id": "dXQ4JySCaFYq"
      },
      "execution_count": null,
      "outputs": []
    },
    {
      "cell_type": "code",
      "source": [
        "test_loss, test_acc = model.evaluate(x_test, y_test)\n",
        "print('loss={0}, accuracy={1}'.format(test_loss, test_acc))"
      ],
      "metadata": {
        "id": "wjsgcLkEfPw3"
      },
      "execution_count": null,
      "outputs": []
    },
    {
      "cell_type": "code",
      "source": [],
      "metadata": {
        "id": "NcCRE8vefRr6"
      },
      "execution_count": null,
      "outputs": []
    }
  ]
}